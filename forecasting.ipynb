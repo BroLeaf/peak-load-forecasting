{
 "cells": [
  {
   "cell_type": "markdown",
   "metadata": {},
   "source": [
    "# HW1 DSAI HW1 Peak Load Forecasting\n",
    "* [作業說明](https://hackmd.io/APjYJ2KtQ6CPI0MMUyjmjA)\n",
    "\n",
    "## 執行\n",
    "* 安裝套件\n",
    "`$ pip install -r requirements.txt`\n",
    "\n",
    "* 執行程式\n",
    "`$ python3 app.py`\n",
    "\n",
    "## 開發紀錄\n",
    "* 使用的 dataset\n",
    "    * [台灣電力公司_過去電力供需資訊](https://data.gov.tw/dataset/19995)\n",
    "    * [台灣電力公司_未來一週電力供需預測](https://data.gov.tw/dataset/33462)\n",
    "\n",
    "使用到 `日期`, `淨尖峰供電能力(MW)`, `備轉容量(MW)`, `備轉容量率(%)`\n",
    "\n",
    "`尖峰負載(MW)` 則是用來比較正確性的\n",
    "\n",
    "## 以下為 code 解釋 ( 會稍微修改 code )"
   ]
  },
  {
   "cell_type": "markdown",
   "metadata": {},
   "source": [
    "* 讀去資料時發現有錯誤的格式，所以寫了一小段自動去除的 code"
   ]
  },
  {
   "cell_type": "code",
   "execution_count": 1,
   "metadata": {},
   "outputs": [
    {
     "name": "stdout",
     "output_type": "stream",
     "text": [
      "index          False\n",
      "日期             False\n",
      "淨尖峰供電能力(MW)    False\n",
      "尖峰負載(MW)        True\n",
      "備轉容量(MW)       False\n",
      "備轉容量率(%)       False\n",
      "dtype: bool\n",
      "(760, 6)\n",
      "上面結果為 true 則表示有資料是錯的\n",
      "\n",
      "處理後\n",
      "index          False\n",
      "日期             False\n",
      "淨尖峰供電能力(MW)    False\n",
      "尖峰負載(MW)       False\n",
      "備轉容量(MW)       False\n",
      "備轉容量率(%)       False\n",
      "dtype: bool\n",
      "(759, 6)\n"
     ]
    }
   ],
   "source": [
    "import pandas as pd\n",
    "import numpy as np\n",
    "from sklearn.model_selection import train_test_split\n",
    "from sklearn.linear_model import LinearRegression\n",
    "# read data set\n",
    "data = pd.read_csv(\"data/2017.1.1 ~ 2019.1.31 的電力供需.csv\", encoding='utf-8')\n",
    "data = data[[\"日期\",\"淨尖峰供電能力(MW)\",\"尖峰負載(MW)\",\"備轉容量(MW)\",\"備轉容量率(%)\"]]\n",
    "\n",
    "# remove error data\n",
    "data = data.reset_index()\n",
    "\n",
    "print(np.isnan(data).any())\n",
    "print(data.shape)\n",
    "print(\"上面結果為 true 則表示有資料是錯的\\n\")\n",
    "\n",
    "data.dropna(inplace=True)\n",
    "print(\"處理後\")\n",
    "print(np.isnan(data).any())\n",
    "print(data.shape)"
   ]
  },
  {
   "cell_type": "markdown",
   "metadata": {},
   "source": [
    "* 註解掉的部份為將 dataset 一部分用作 test 來測試準確率，\n",
    "現在是將這個部份都拿來 train module"
   ]
  },
  {
   "cell_type": "code",
   "execution_count": 2,
   "metadata": {},
   "outputs": [
    {
     "data": {
      "text/plain": [
       "LinearRegression(copy_X=True, fit_intercept=True, n_jobs=None,\n",
       "         normalize=False)"
      ]
     },
     "execution_count": 2,
     "metadata": {},
     "output_type": "execute_result"
    }
   ],
   "source": [
    "X = data[[\"日期\",\"淨尖峰供電能力(MW)\",\"備轉容量(MW)\",\"備轉容量率(%)\"]]\n",
    "y = data[[\"尖峰負載(MW)\"]]\n",
    "\n",
    "\n",
    "# 75% 劃分為 train set, 25%劃分為 test set\n",
    "# X_train,X_test,y_train,y_test = train_test_split(X,y,random_state=1)\n",
    "\n",
    "# train module\n",
    "linreg = LinearRegression()\n",
    "linreg.fit(X,y)"
   ]
  },
  {
   "cell_type": "markdown",
   "metadata": {},
   "source": [
    "* 接著是使用台電的預測資料，修改成我要的格式"
   ]
  },
  {
   "cell_type": "code",
   "execution_count": 3,
   "metadata": {},
   "outputs": [
    {
     "name": "stdout",
     "output_type": "stream",
     "text": [
      "         日期  淨尖峰供電能力(MW)  備轉容量(MW)  備轉容量率(%)\n",
      "0  20190402        30560      1860      6.48\n",
      "1  20190403        30560      1960      6.85\n",
      "2  20190404        28140      2440      9.48\n",
      "3  20190405        27060      2460      9.98\n",
      "4  20190406        26970      2670     10.98\n",
      "5  20190407        26930      2430      9.90\n",
      "6  20190408        30600      2100      7.37\n"
     ]
    }
   ],
   "source": [
    "# read support data\n",
    "pre_data = pd.read_csv(\"data/power_supply_predicted.csv\", encoding='utf-8')\n",
    "pre_data = pre_data.rename(index=str,columns={\"日期(年/月/日)\":\"日期\",\"預估淨尖峰供電能力(萬瓩)\":\"淨尖峰供電能力(MW)\",\"預估瞬時尖峰負載(萬瓩)\":\"尖峰負載(MW)\",\"預估尖峰備轉容量率(%)\":\"備轉容量率(%)\",\"預估尖峰備轉容量(萬瓩)\":\"備轉容量(MW)\"})\n",
    "# modify format\n",
    "for i in range(0, 7):\n",
    "    s=pre_data.at[str(i), \"日期\"]\n",
    "    pre_data.at[str(i), \"日期\"]=s[0:4]+s[5:7]+s[8:10]\n",
    "    pre_data.at[str(i), \"淨尖峰供電能力(MW)\"]*=10\n",
    "    pre_data.at[str(i), \"備轉容量(MW)\"]*=10\n",
    "pre_data = pre_data[[\"日期\",\"淨尖峰供電能力(MW)\",\"備轉容量(MW)\",\"備轉容量率(%)\"]]    \n",
    "print(pre_data)\n"
   ]
  },
  {
   "cell_type": "markdown",
   "metadata": {},
   "source": [
    "* 用剛剛產生的 module 去測試，但是實際上`尖峰負載`的值會與`淨尖峰供電能力`、`備轉容量`有非常大的相關，所以基本上會和台電的預測結果相差不遠"
   ]
  },
  {
   "cell_type": "code",
   "execution_count": 4,
   "metadata": {},
   "outputs": [
    {
     "name": "stdout",
     "output_type": "stream",
     "text": [
      "       date  peak_load(MW)\n",
      "0  20190402        28700.0\n",
      "1  20190403        28600.0\n",
      "2  20190404        25700.0\n",
      "3  20190405        24600.0\n",
      "4  20190406        24300.0\n",
      "5  20190407        24500.0\n",
      "6  20190408        28500.0\n"
     ]
    }
   ],
   "source": [
    "# predict future peak load for a week and output\n",
    "pred = linreg.predict(pre_data)\n",
    "pred_output = pd.DataFrame(pred, columns=[\"peak_load(MW)\"])\n",
    "pred_output.insert(0,\"date\", pre_data[\"日期\"].to_numpy())\n",
    "print(pred_output)\n",
    "pred_output.to_csv(\"submission.csv\", encoding='utf-8', index=False)"
   ]
  }
 ],
 "metadata": {
  "kernelspec": {
   "display_name": "Python 3",
   "language": "python",
   "name": "python3"
  },
  "language_info": {
   "codemirror_mode": {
    "name": "ipython",
    "version": 3
   },
   "file_extension": ".py",
   "mimetype": "text/x-python",
   "name": "python",
   "nbconvert_exporter": "python",
   "pygments_lexer": "ipython3",
   "version": "3.6.7"
  }
 },
 "nbformat": 4,
 "nbformat_minor": 2
}
